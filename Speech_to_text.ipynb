{
  "nbformat": 4,
  "nbformat_minor": 0,
  "metadata": {
    "colab": {
      "provenance": []
    },
    "kernelspec": {
      "name": "python3",
      "display_name": "Python 3"
    },
    "language_info": {
      "name": "python"
    }
  },
  "cells": [
    {
      "cell_type": "markdown",
      "source": [
        "# Speech to text Python function\n",
        "**Date: 11/11/2024**"
      ],
      "metadata": {
        "id": "Z9ID-yzIKRGn"
      }
    },
    {
      "cell_type": "markdown",
      "source": [
        "## Install packages"
      ],
      "metadata": {
        "id": "zVU4WV8JJ9vy"
      }
    },
    {
      "cell_type": "code",
      "source": [
        "pip install SpeechRecognition"
      ],
      "metadata": {
        "colab": {
          "base_uri": "https://localhost:8080/"
        },
        "id": "okO9EchQId6Z",
        "outputId": "1ebabc6c-b6a6-4c8a-c3cb-545e2aeb9a1d"
      },
      "execution_count": 11,
      "outputs": [
        {
          "output_type": "stream",
          "name": "stdout",
          "text": [
            "Requirement already satisfied: SpeechRecognition in /usr/local/lib/python3.10/dist-packages (3.11.0)\n",
            "Requirement already satisfied: requests>=2.26.0 in /usr/local/lib/python3.10/dist-packages (from SpeechRecognition) (2.32.3)\n",
            "Requirement already satisfied: typing-extensions in /usr/local/lib/python3.10/dist-packages (from SpeechRecognition) (4.12.2)\n",
            "Requirement already satisfied: charset-normalizer<4,>=2 in /usr/local/lib/python3.10/dist-packages (from requests>=2.26.0->SpeechRecognition) (3.4.0)\n",
            "Requirement already satisfied: idna<4,>=2.5 in /usr/local/lib/python3.10/dist-packages (from requests>=2.26.0->SpeechRecognition) (3.10)\n",
            "Requirement already satisfied: urllib3<3,>=1.21.1 in /usr/local/lib/python3.10/dist-packages (from requests>=2.26.0->SpeechRecognition) (2.2.3)\n",
            "Requirement already satisfied: certifi>=2017.4.17 in /usr/local/lib/python3.10/dist-packages (from requests>=2.26.0->SpeechRecognition) (2024.8.30)\n"
          ]
        }
      ]
    },
    {
      "cell_type": "code",
      "source": [
        "pip install pydub"
      ],
      "metadata": {
        "colab": {
          "base_uri": "https://localhost:8080/"
        },
        "id": "9ZZ5jVj8IvmO",
        "outputId": "486ec5b8-e88e-4d9c-da85-647e1afc19dd"
      },
      "execution_count": 5,
      "outputs": [
        {
          "output_type": "stream",
          "name": "stdout",
          "text": [
            "Collecting pydub\n",
            "  Downloading pydub-0.25.1-py2.py3-none-any.whl.metadata (1.4 kB)\n",
            "Downloading pydub-0.25.1-py2.py3-none-any.whl (32 kB)\n",
            "Installing collected packages: pydub\n",
            "Successfully installed pydub-0.25.1\n"
          ]
        }
      ]
    },
    {
      "cell_type": "markdown",
      "source": [
        "## Main function\n",
        "The input is needed to transform into right format which is wav."
      ],
      "metadata": {
        "id": "toOTIr98KDbx"
      }
    },
    {
      "cell_type": "code",
      "source": [
        "from pydub import AudioSegment\n",
        "\n",
        "# Load the MP3 file\n",
        "audio = AudioSegment.from_file(\"test.mp3\")\n",
        "\n",
        "# Export as a WAV file\n",
        "audio.export(\"test.wav\", format=\"wav\")\n"
      ],
      "metadata": {
        "colab": {
          "base_uri": "https://localhost:8080/"
        },
        "id": "iUm9NzWzIzbC",
        "outputId": "1265db10-78d7-4263-fb5e-328884ca6597"
      },
      "execution_count": 12,
      "outputs": [
        {
          "output_type": "execute_result",
          "data": {
            "text/plain": [
              "<_io.BufferedRandom name='test.wav'>"
            ]
          },
          "metadata": {},
          "execution_count": 12
        }
      ]
    },
    {
      "cell_type": "code",
      "execution_count": 13,
      "metadata": {
        "colab": {
          "base_uri": "https://localhost:8080/",
          "height": 109
        },
        "id": "NTngPBfAFaXL",
        "outputId": "4e3c2ad1-4153-49b9-e827-22e32e69f734"
      },
      "outputs": [
        {
          "output_type": "execute_result",
          "data": {
            "text/plain": [
              "\"questions one through three refer to the following message good morning Tammy this is Jesse from the purchasing department I know you've submitted the fabric order with Janessa garment Supply and I've already got a copy here with me but I have some wonderful news for you most of Janice's materials are on sale till the end of this week except for the organic cotton so I think we should take advantage of the sale to order the fabric needed for a new contract with Victoria's fashion do you think you can have the purchase order updated by tomorrow Banks number one where is the speaker calling from number two look at the graphic which fabric is given with incorrect information number three what is the listener asked to do\""
            ],
            "application/vnd.google.colaboratory.intrinsic+json": {
              "type": "string"
            }
          },
          "metadata": {},
          "execution_count": 13
        }
      ],
      "source": [
        "import speech_recognition as sr\n",
        "\n",
        "# Path to the uploaded audio file\n",
        "audio_file_path = 'test.wav'\n",
        "\n",
        "# Initialize the recognizer\n",
        "recognizer = sr.Recognizer()\n",
        "\n",
        "# Load the audio file and convert it to text\n",
        "with sr.AudioFile(audio_file_path) as source:\n",
        "    audio_data = recognizer.record(source)\n",
        "    try:\n",
        "        # Recognize the speech in the audio\n",
        "        text = recognizer.recognize_google(audio_data)\n",
        "    except sr.UnknownValueError:\n",
        "        text = \"Sorry, the audio could not be understood.\"\n",
        "    except sr.RequestError:\n",
        "        text = \"Sorry, there was an error with the speech recognition service.\"\n",
        "\n",
        "text\n"
      ]
    },
    {
      "cell_type": "markdown",
      "source": [
        "Although there are a few errors in the output. The model output text is quite accuracy and closed to the original audio."
      ],
      "metadata": {
        "id": "rVWFO-YGMLX_"
      }
    }
  ]
}